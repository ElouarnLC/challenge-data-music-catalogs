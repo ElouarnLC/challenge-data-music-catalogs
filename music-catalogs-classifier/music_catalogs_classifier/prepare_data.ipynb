{
 "cells": [
  {
   "cell_type": "code",
   "execution_count": 5,
   "metadata": {},
   "outputs": [],
   "source": [
    "import pandas as pd\n"
   ]
  },
  {
   "cell_type": "code",
   "execution_count": null,
   "metadata": {},
   "outputs": [],
   "source": [
    "# Load the input data\n",
    "input_data = pd.read_csv(r'..\\data\\raw\\train_X_beAW6y8.csv')"
   ]
  },
  {
   "cell_type": "code",
   "execution_count": 7,
   "metadata": {},
   "outputs": [],
   "source": [
    "# Define the column ranges for each class (tags and categories)\n",
    "tag_genres_cols = input_data.columns[1:91]  # 90 tag-genres\n",
    "tag_instruments_cols = input_data.columns[91:203]  # 112 tag-instruments\n",
    "tag_moods_cols = input_data.columns[203:249]  # 46 tag-moods\n",
    "\n",
    "category_genres_cols = input_data.columns[249:267]  # 18 category-genres\n",
    "category_instruments_cols = input_data.columns[267:282]  # 15 category-instruments\n",
    "category_moods_cols = input_data.columns[282:290]  # 8 category-moods\n",
    "\n",
    "# Separate the data into tags and categories for each class\n",
    "genres_tags_data = input_data[['ChallengeID'] + list(tag_genres_cols)]\n",
    "instruments_tags_data = input_data[['ChallengeID'] + list(tag_instruments_cols)]\n",
    "moods_tags_data = input_data[['ChallengeID'] + list(tag_moods_cols)]\n",
    "\n",
    "genres_categories_data = input_data[['ChallengeID'] + list(category_genres_cols)]\n",
    "instruments_categories_data = input_data[['ChallengeID'] + list(category_instruments_cols)]\n",
    "moods_categories_data = input_data[['ChallengeID'] + list(category_moods_cols)]"
   ]
  },
  {
   "cell_type": "code",
   "execution_count": null,
   "metadata": {},
   "outputs": [],
   "source": [
    "# Optionally, save the separated data into CSV files\n",
    "genres_tags_data.to_csv('../data/train/input_genres_tags_data.csv', index=False)\n",
    "instruments_tags_data.to_csv('../data/train/input_instruments_tags_data.csv', index=False)\n",
    "moods_tags_data.to_csv('../data/train/input_moods_tags_data.csv', index=False)\n",
    "\n",
    "genres_categories_data.to_csv('../data/train/genres_categories_data.csv', index=False)\n",
    "instruments_categories_data.to_csv('../data/train/instruments_categories_data.csv', index=False)\n",
    "moods_categories_data.to_csv('../data/train/moods_categories_data.csv', index=False)"
   ]
  },
  {
   "cell_type": "code",
   "execution_count": 14,
   "metadata": {},
   "outputs": [],
   "source": [
    "# Load the output data\n",
    "output_data = pd.read_csv(r'..\\data\\raw\\train_y_YZCqwbD.csv')"
   ]
  },
  {
   "cell_type": "code",
   "execution_count": 15,
   "metadata": {},
   "outputs": [],
   "source": [
    "# Define the column ranges for each class (tags)\n",
    "tag_genres_cols = output_data.columns[1:91]  # 90 tag-genres\n",
    "tag_instruments_cols = output_data.columns[91:203]  # 112 tag-instruments\n",
    "tag_moods_cols = output_data.columns[203:249]  # 46 tag-moods\n",
    "\n",
    "# Separate the data into tags for each class\n",
    "genres_tags_data = output_data[['ChallengeID'] + list(tag_genres_cols)]\n",
    "instruments_tags_data = output_data[['ChallengeID'] + list(tag_instruments_cols)]\n",
    "moods_tags_data = output_data[['ChallengeID'] + list(tag_moods_cols)]"
   ]
  },
  {
   "cell_type": "code",
   "execution_count": 16,
   "metadata": {},
   "outputs": [],
   "source": [
    "# Optionally, save the separated data into CSV files\n",
    "genres_tags_data.to_csv('../data/train/output_genres_tags_data.csv', index=False)\n",
    "instruments_tags_data.to_csv('../data/train/output_instruments_tags_data.csv', index=False)\n",
    "moods_tags_data.to_csv('../data/train/output_moods_tags_data.csv', index=False)"
   ]
  }
 ],
 "metadata": {
  "kernelspec": {
   "display_name": ".venv",
   "language": "python",
   "name": "python3"
  },
  "language_info": {
   "codemirror_mode": {
    "name": "ipython",
    "version": 3
   },
   "file_extension": ".py",
   "mimetype": "text/x-python",
   "name": "python",
   "nbconvert_exporter": "python",
   "pygments_lexer": "ipython3",
   "version": "3.12.5"
  }
 },
 "nbformat": 4,
 "nbformat_minor": 2
}
